{
  "nbformat": 4,
  "nbformat_minor": 0,
  "metadata": {
    "colab": {
      "provenance": [],
      "authorship_tag": "ABX9TyNEg2Jotyp+pENlBuO3jhl0",
      "include_colab_link": true
    },
    "kernelspec": {
      "name": "python3",
      "display_name": "Python 3"
    },
    "language_info": {
      "name": "python"
    }
  },
  "cells": [
    {
      "cell_type": "markdown",
      "metadata": {
        "id": "view-in-github",
        "colab_type": "text"
      },
      "source": [
        "<a href=\"https://colab.research.google.com/github/EstebanJM/BigData/blob/main/Taller_1.ipynb\" target=\"_parent\"><img src=\"https://colab.research.google.com/assets/colab-badge.svg\" alt=\"Open In Colab\"/></a>"
      ]
    },
    {
      "cell_type": "markdown",
      "source": [
        "# Taller 1\n",
        "\n",
        "*   Michael Esteban Jiménez Medina. Cod. 63191002\n"
      ],
      "metadata": {
        "id": "V_88Of6SSI_8"
      }
    },
    {
      "cell_type": "code",
      "source": [
        "def par_impar(a,b=2):\n",
        "\n",
        "  suma = a+b\n",
        "\n",
        "  if type (a) == int and type(b) == int:\n",
        "   if suma % 2 == 0:\n",
        "    print(f\"El número {suma} es par.\")\n",
        "   else:\n",
        "    print(f\"El número {suma} es impar.\")\n",
        "  else:\n",
        "    print(f\"Los datos integrados deben ser enteros\")\n",
        "\n",
        "par_impar(6,7)\n",
        "\n"
      ],
      "metadata": {
        "colab": {
          "base_uri": "https://localhost:8080/"
        },
        "id": "E5KE_7CbPrxn",
        "outputId": "76e864f8-d6d0-436c-e661-0b7eb7e4737f"
      },
      "execution_count": null,
      "outputs": [
        {
          "output_type": "stream",
          "name": "stdout",
          "text": [
            "El número 13 es impar.\n"
          ]
        }
      ]
    },
    {
      "cell_type": "code",
      "source": [
        "def div_sum_entero (a, b, c):\n",
        "\n",
        "  if type (a) == int and type(b) == int and type(c) == int:\n",
        "    suma = a+b\n",
        "    if c!=0:\n",
        "      print(suma/c)\n",
        "    else:\n",
        "      print(\"No es posible ejecutar\")\n",
        "  else:\n",
        "    print(\"Todos los números deben ser enteros\")\n",
        "\n",
        "div_sum_entero (5,9,3)"
      ],
      "metadata": {
        "colab": {
          "base_uri": "https://localhost:8080/"
        },
        "id": "4vG2mOCUQxO0",
        "outputId": "f16a8e90-179e-4556-8f17-716b0004c2df"
      },
      "execution_count": null,
      "outputs": [
        {
          "output_type": "stream",
          "name": "stdout",
          "text": [
            "4.666666666666667\n"
          ]
        }
      ]
    }
  ]
}